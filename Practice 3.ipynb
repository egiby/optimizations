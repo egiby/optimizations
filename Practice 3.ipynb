{
 "cells": [
  {
   "cell_type": "markdown",
   "metadata": {},
   "source": [
    "# Задание 3\n",
    "## Генерация данных\n",
    "\n",
    "$-a_2 = a_1 = a_0 = 1$ (в коде - массив $a$)\n",
    "\n",
    "$\\sigma^2 = 0.1$ (в коде - $var$)"
   ]
  },
  {
   "cell_type": "code",
   "execution_count": 90,
   "metadata": {
    "collapsed": true
   },
   "outputs": [],
   "source": [
    "import numpy as np\n",
    "from scipy.stats import norm, uniform, randint\n",
    "from scipy.special import expit\n",
    "from scipy.optimize import linprog\n",
    "import matplotlib.pyplot as plt\n",
    "%matplotlib inline"
   ]
  },
  {
   "cell_type": "code",
   "execution_count": 91,
   "metadata": {
    "collapsed": false
   },
   "outputs": [],
   "source": [
    "def get_sample(M, var, origin):\n",
    "    return origin + norm.rvs(size=M, scale=np.sqrt(var))\n",
    "\n",
    "    \n",
    "M = 200\n",
    "t = np.array(range(M)) * 10 / M\n",
    "\n",
    "a = np.array([-1, 1, 1])\n",
    "\n",
    "fun = lambda t, a: (a * np.array([np.sin(t), t, 1])).sum()\n",
    "\n",
    "var = 0.1\n",
    "\n",
    "origin = fun(t, a)\n",
    "sample = get_sample(M, var, origin)"
   ]
  },
  {
   "cell_type": "markdown",
   "metadata": {},
   "source": [
    "## Решение задач оптимизации\n",
    "\n",
    "Просят решить три задачи оптимизации.\n",
    "\n",
    "   * Минимизировать сумму квадратов ошибок. Эту задачу решает метод наименьших квадратов:\n",
    "   \n",
    "Пусть $ T = \\begin{pmatrix}\n",
    "    sin(t_0) & t_0 & 1 \\\\\n",
    "    sin(t_1) & t_1 & 1 \\\\\n",
    "    \\vdots & \\vdots & \\vdots \\\\\n",
    "    sin(t_{m - 1}) & t_{m - 1} & 1\n",
    "  \\end{pmatrix} $, $b = \\begin{pmatrix}y_0 \\\\ y_1 \\\\ \\vdots \\\\ y_{m - 1}\\end{pmatrix}$, $a = \\begin{pmatrix}a_2 \\\\ a_1 \\\\ a_0 \\end{pmatrix}$\n",
    "\n",
    "Тогда задача минимизации записывается как $|T \\vec{a} - \\vec{b}| \\to min$ и имеет решение $\\vec{a} = (T^T T)^{-1}T^T \\vec{b}$\n",
    "   * Минимизировать сумму модулей ошибок.\n",
    "Это решается с помощью следующей задачи ЛП:\n",
    "\n",
    "Переменные: $\\{v_2, u_2, v_1, u_1, v_0, u_0, \\delta_0, \\delta_1, ..., \\delta_{m - 1}\\}$\n",
    "\n",
    "$\\vec{a} = \\begin{pmatrix}v_2 - u_2 \\\\ v_1 - u_1 \\\\ v_0 - u_0 \\end{pmatrix}$\n",
    "\n",
    "$T\\vec{a} - \\vec{\\delta} \\le \\vec{b}$\n",
    "\n",
    "$-T\\vec{a} - \\vec{\\delta} \\le -\\vec{b}$\n",
    "\n",
    "$\\sum{\\delta_i} \\to min$\n",
    "   \n",
    "   * Минимизировть максимум ошибки.\n",
    "Это та же задача ЛП, только вместо $\\delta_0, \\delta_1, \\delta_2$ считаем, что за ошибку отвечает только одна переменная $\\delta$ и минимизируем её:\n",
    "\n",
    "Переменные: $\\{v_2, u_2, v_1, u_1, v_0, u_0, \\delta\\}$\n",
    "\n",
    "$\\vec{a} = \\begin{pmatrix}v_2 - u_2 \\\\ v_1 - u_1 \\\\ v_0 - u_0 \\end{pmatrix}$\n",
    "\n",
    "$\\vec{\\Delta} = \\begin{pmatrix}\\delta \\\\ \\vdots \\\\ \\delta \\end{pmatrix}$\n",
    "\n",
    "$T\\vec{a} - \\vec{\\Delta} \\le \\vec{b}$\n",
    "\n",
    "$-T\\vec{a} - \\vec{\\Delta} \\le -\\vec{b}$\n",
    "\n",
    "$\\delta \\to min$\n",
    "\n",
    "PS: Утверждается, что scipy.optimize.linprog позволяет проводить симплекс-метод без условия неотрицательности переменных. Решается это так, как показано выше, а в коде будет напрямую искаться вектор $\\vec{a}$ "
   ]
  },
  {
   "cell_type": "code",
   "execution_count": 92,
   "metadata": {
    "collapsed": false
   },
   "outputs": [],
   "source": [
    "# Метод наименьших квадратов\n",
    "def get_lst2_a(t, sample):\n",
    "    T = np.matrix([np.sin(t), t, np.array([1] * M)]).T\n",
    "\n",
    "    return np.linalg.lstsq(T, sample)[0] # Да, именно он реализован в этой функции"
   ]
  },
  {
   "cell_type": "code",
   "execution_count": 118,
   "metadata": {
    "collapsed": true
   },
   "outputs": [],
   "source": [
    "# Первая задача ЛП\n",
    "def get_lst1_a(t, sample):\n",
    "    E = np.matrix(np.identity(len(t)))\n",
    "    A = np.concatenate((T, -E), axis=1)\n",
    "    A = np.concatenate((A, np.concatenate((-T, -E), axis=1)), axis=0)\n",
    "    \n",
    "    bounds = [(None, None)] * 3 + [(0, None)] * len(t) # Задаем границы значений переменных. \n",
    "    return linprog(c=([0] * 3 + [1] * len(t)), A_ub=A, b_ub=list(sample) + list(-sample), \n",
    "                   bounds=bounds, options={'disp': False, \n",
    "                                           'bland': False, \n",
    "                                           'tol': 1e-6, \n",
    "                                           'maxiter': 1000})['x'][:3]"
   ]
  },
  {
   "cell_type": "code",
   "execution_count": 143,
   "metadata": {
    "collapsed": true
   },
   "outputs": [],
   "source": [
    "# Вторая задача ЛП\n",
    "def get_lstinf_a(t, sample):\n",
    "    E = np.matrix(np.ones(len(t))).T # Вместо разных - всегда одна ошибка\n",
    "    A = np.concatenate((T, -E), axis=1)\n",
    "    A = np.concatenate((A, np.concatenate((-T, -E), axis=1)), axis=0)\n",
    "    \n",
    "    bounds = [(None, None)] * 3 + [(0, None)] # Задаем границы значений переменных. \n",
    "    return linprog(c=([0] * 3 + [1]), A_ub=A, b_ub=list(sample) + list(-sample), \n",
    "                   bounds=bounds, options={'disp': False, \n",
    "                                           'bland': False, \n",
    "                                           'tol': 1e-3, \n",
    "                                           'maxiter': 10000})['x'][:3]"
   ]
  },
  {
   "cell_type": "code",
   "execution_count": 144,
   "metadata": {
    "collapsed": false
   },
   "outputs": [
    {
     "name": "stdout",
     "output_type": "stream",
     "text": [
      "[-1.02707385  0.99692881  1.00119324]\n",
      "[-0.99555282  1.00624695  0.96077592]\n",
      "[-0.98116458  0.9740039   1.05635844]\n"
     ]
    }
   ],
   "source": [
    "a_2 = get_lst2_a(t, sample)\n",
    "a_1 = get_lst1_a(t, sample)\n",
    "a_inf = get_lstinf_a(t, sample)\n",
    "print(a_2, a_1, a_inf, sep='\\n')"
   ]
  },
  {
   "cell_type": "markdown",
   "metadata": {},
   "source": [
    "### Пункт a)"
   ]
  },
  {
   "cell_type": "code",
   "execution_count": 145,
   "metadata": {
    "collapsed": false,
    "scrolled": false
   },
   "outputs": [
    {
     "data": {
      "image/png": "[encoded data removed]",
      "text/plain": [
       "<matplotlib.figure.Figure at 0x7f90205a3518>"
      ]
     },
     "metadata": {},
     "output_type": "display_data"
    }
   ],
   "source": [
    "t_all = np.linspace(-10, 10, 1000)\n",
    "\n",
    "plt.figure(figsize=(10, 6))\n",
    "\n",
    "plt.plot(t_all, fun(t_all, a), label=r'$origin$')\n",
    "plt.plot(t_all, fun(t_all, a_2), label=r'$|T \\vec{a} - \\vec{b}| \\to min$')\n",
    "plt.plot(t_all, fun(t_all, a_1), label=r'$\\sum{|\\delta_i|} \\to min$')\n",
    "plt.plot(t_all, fun(t_all, a_inf), label=r'$max \\{\\delta_i\\} \\to min$')\n",
    "\n",
    "plt.legend(loc='upper left')\n",
    "plt.show()"
   ]
  },
  {
   "cell_type": "markdown",
   "metadata": {},
   "source": [
    "### Пункт b)\n",
    "В пункте b) логично для $a^{(2)}$ посчитать модуль разности с истинным значением, для $a^{(1)}$ - сумму модулей разности, для $a^{(\\infty)}$ - максимальную ошибку"
   ]
  },
  {
   "cell_type": "code",
   "execution_count": 146,
   "metadata": {
    "collapsed": false
   },
   "outputs": [],
   "source": [
    "def test_a_by_var(var):\n",
    "    sample = get_sample(M, var, origin)\n",
    "    a_2 = get_lst2_a(t, sample)\n",
    "    a_1 = get_lst1_a(t, sample)\n",
    "    a_inf = get_lstinf_a(t, sample)\n",
    "    \n",
    "    print(a_2, a_1, a_inf, sep='\\n')\n",
    "    \n",
    "    print(np.sqrt(((a - a_2) ** 2).sum()))\n",
    "    print(np.sum(np.abs(a - a_1)))\n",
    "    print(np.max(np.abs(a - a_inf)))"
   ]
  },
  {
   "cell_type": "code",
   "execution_count": 147,
   "metadata": {
    "collapsed": false
   },
   "outputs": [
    {
     "name": "stdout",
     "output_type": "stream",
     "text": [
      "[-0.98885534  1.00171019  0.98139693]\n",
      "[-0.98197441  1.00303632  0.96637374]\n",
      "[-0.95745509  0.99247494  1.03548371]\n",
      "0.0217532203778\n",
      "0.0546881623402\n",
      "0.0425449053909\n"
     ]
    }
   ],
   "source": [
    "test_a_by_var(0.01)"
   ]
  },
  {
   "cell_type": "code",
   "execution_count": 148,
   "metadata": {
    "collapsed": false
   },
   "outputs": [
    {
     "name": "stdout",
     "output_type": "stream",
     "text": [
      "[-0.86996148  0.96536294  1.10196395]\n",
      "[-0.93617628  0.97245668  1.08690083]\n",
      "[-0.57001596  1.00186353  0.94890906]\n",
      "0.168838356906\n",
      "0.178267877364\n",
      "0.429984041571\n"
     ]
    }
   ],
   "source": [
    "test_a_by_var(1)"
   ]
  },
  {
   "cell_type": "code",
   "execution_count": 149,
   "metadata": {
    "collapsed": false
   },
   "outputs": [
    {
     "name": "stdout",
     "output_type": "stream",
     "text": [
      "[-1.03662716  1.03922094  1.12395649]\n",
      "[-2.20905549  1.62423747 -1.24748399]\n",
      "[ 0.70737624  1.09918562  0.86890687]\n",
      "0.135074215648\n",
      "4.08077694323\n",
      "1.70737623786\n"
     ]
    }
   ],
   "source": [
    "test_a_by_var(10)"
   ]
  },
  {
   "cell_type": "markdown",
   "metadata": {},
   "source": [
    "Видно, что с увеличением дисперсии нужно больше итераций для сходимости симплекс-метода. Метод наименьших квадратов всегда прекрасен."
   ]
  }
 ],
 "metadata": {
  "kernelspec": {
   "display_name": "Python 3",
   "language": "python",
   "name": "python3"
  },
  "language_info": {
   "codemirror_mode": {
    "name": "ipython",
    "version": 3
   },
   "file_extension": ".py",
   "mimetype": "text/x-python",
   "name": "python",
   "nbconvert_exporter": "python",
   "pygments_lexer": "ipython3",
   "version": "3.5.2"
  }
 },
 "nbformat": 4,
 "nbformat_minor": 2
}
